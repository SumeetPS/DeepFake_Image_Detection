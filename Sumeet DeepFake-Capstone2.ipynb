{
 "cells": [
  {
   "cell_type": "code",
   "execution_count": 1,
   "id": "eca09d42",
   "metadata": {},
   "outputs": [],
   "source": [
    "import pandas as pd\n",
    "import numpy as np\n",
    "import matplotlib.pyplot as plt\n",
    "import tensorflow as tf\n",
    "import keras\n",
    "import os\n",
    "\n",
    "import warnings \n",
    "warnings.filterwarnings('ignore')"
   ]
  },
  {
   "cell_type": "code",
   "execution_count": 2,
   "id": "39e841d8",
   "metadata": {},
   "outputs": [],
   "source": [
    "from keras.models import Sequential\n",
    "from keras.layers import Conv2D, MaxPool2D, Flatten, Dense, Dropout\n",
    "from tensorflow.keras.utils import to_categorical"
   ]
  },
  {
   "cell_type": "code",
   "execution_count": 3,
   "id": "4d3234e0",
   "metadata": {},
   "outputs": [],
   "source": [
    "import cv2"
   ]
  },
  {
   "cell_type": "markdown",
   "id": "ed0d2e4e-9f6d-485d-9e48-f1c63fd04008",
   "metadata": {},
   "source": [
    "# Creating Training Dataset"
   ]
  },
  {
   "cell_type": "code",
   "execution_count": 4,
   "id": "417dca47",
   "metadata": {},
   "outputs": [],
   "source": [
    "image_size = 64  # HEIGHT AND WIDTH\n",
    "input_image = [] \n",
    "path1=r\"C:\\Users\\SUMEET\\Documents\\Python\\Capstone 2\\Deep Fake Dataset\\Train\"\n",
    "cate=['Real','Fake']   \n",
    "\n",
    "for i in cate:\n",
    "    folders = os.path.join(path1 ,i)\n",
    "    label   = cate.index(i)\n",
    "    j=0\n",
    "    for image in os.listdir(folders):\n",
    "        image_path  = os.path.join(folders , image)\n",
    "        image_array =  cv2.imread(image_path)\n",
    "        image_array =cv2.resize(image_array , (image_size  , image_size) ) \n",
    "        input_image.append([image_array , label])\n",
    "        if (j==30000 and label==0):\n",
    "            break;\n",
    "        elif (j==50000 and label==1):\n",
    "            break;\n",
    "        else:\n",
    "            j+=1\n",
    "\n",
    "np.random.shuffle(input_image)   # shuffle -----random sampling"
   ]
  },
  {
   "cell_type": "code",
   "execution_count": 5,
   "id": "22de7ea1",
   "metadata": {},
   "outputs": [],
   "source": [
    "train_x=[]\n",
    "train_y=[]\n",
    "\n",
    "for X_values, Y_values in input_image:\n",
    "    train_x.append(X_values)\n",
    "    train_y.append(Y_values)"
   ]
  },
  {
   "cell_type": "code",
   "execution_count": 6,
   "id": "4a3c7136",
   "metadata": {},
   "outputs": [],
   "source": [
    "train_x = np.array(train_x)\n",
    "train_y = np.array(train_y)"
   ]
  },
  {
   "cell_type": "code",
   "execution_count": 7,
   "id": "5e2e13b4",
   "metadata": {},
   "outputs": [],
   "source": [
    "train_x= train_x/255  # max normilization\n",
    "train_y= to_categorical(train_y)"
   ]
  },
  {
   "cell_type": "markdown",
   "id": "ac1dcbbd",
   "metadata": {},
   "source": [
    "# Creating Validation Dataset"
   ]
  },
  {
   "cell_type": "code",
   "execution_count": 8,
   "id": "a17f1ef4",
   "metadata": {},
   "outputs": [],
   "source": [
    "input_image1 = [] \n",
    "path1=r\"C:\\Users\\SUMEET\\Documents\\Python\\Capstone 2\\Deep Fake Dataset\\Validation\"\n",
    "cate=['Real','Fake']  \n",
    "\n",
    "for i in cate:\n",
    "    folders = os.path.join(path1 ,i)\n",
    "    label   = cate.index(i)\n",
    "    j=0\n",
    "    for image in os.listdir(folders):\n",
    "        image_path  = os.path.join(folders , image)\n",
    "        image_array =  cv2.imread(image_path)\n",
    "        image_array =cv2.resize(image_array , (image_size  , image_size) ) \n",
    "        input_image1.append([image_array , label])\n",
    "        if j==5000:\n",
    "            break;\n",
    "        else:\n",
    "            j+=1\n",
    "\n",
    "np.random.shuffle(input_image1)   # shuffle -----random sampling"
   ]
  },
  {
   "cell_type": "code",
   "execution_count": 9,
   "id": "80d6aa19",
   "metadata": {},
   "outputs": [],
   "source": [
    "val_x=[]\n",
    "val_y=[]\n",
    "\n",
    "for X_values, Y_values in input_image1:\n",
    "    val_x.append(X_values)\n",
    "    val_y.append(Y_values)"
   ]
  },
  {
   "cell_type": "code",
   "execution_count": 10,
   "id": "2b988acc",
   "metadata": {},
   "outputs": [],
   "source": [
    "val_x = np.array(val_x)\n",
    "val_y = np.array(val_y)"
   ]
  },
  {
   "cell_type": "code",
   "execution_count": 11,
   "id": "ce42a329",
   "metadata": {},
   "outputs": [],
   "source": [
    "val_x= val_x/255  # max normilization\n",
    "val_y= to_categorical(val_y)"
   ]
  },
  {
   "cell_type": "markdown",
   "id": "60685840",
   "metadata": {},
   "source": [
    "# Creating Test Dataset"
   ]
  },
  {
   "cell_type": "code",
   "execution_count": 8,
   "id": "55724546",
   "metadata": {},
   "outputs": [],
   "source": [
    "image_size = 64  # HEIGHT AND WIDTH\n",
    "input_image2 = [] \n",
    "path1=r\"C:\\Users\\SUMEET\\Documents\\Python\\Capstone 2\\Deep Fake Dataset\\Test\"\n",
    "cate=['Real','Fake']   \n",
    "\n",
    "for i in cate:\n",
    "    folders = os.path.join(path1 ,i)\n",
    "    label   = cate.index(i)\n",
    "    for image in os.listdir(folders):\n",
    "        image_path  = os.path.join(folders , image)\n",
    "        image_array =  cv2.imread(image_path)\n",
    "        image_array =cv2.resize(image_array , (image_size  , image_size) ) \n",
    "        input_image2.append([image_array , label])\n",
    "\n",
    "np.random.shuffle(input_image2)   # shuffle -----random sampling"
   ]
  },
  {
   "cell_type": "code",
   "execution_count": 9,
   "id": "10f52574",
   "metadata": {},
   "outputs": [],
   "source": [
    "test_x=[]\n",
    "test_y=[]\n",
    "\n",
    "for X_values, Y_values in input_image2:\n",
    "    test_x.append(X_values)\n",
    "    test_y.append(Y_values)"
   ]
  },
  {
   "cell_type": "code",
   "execution_count": 10,
   "id": "dd85276a",
   "metadata": {},
   "outputs": [],
   "source": [
    "test_x = np.array(test_x)\n",
    "test_y = np.array(test_y)"
   ]
  },
  {
   "cell_type": "code",
   "execution_count": 11,
   "id": "2baab1e1",
   "metadata": {},
   "outputs": [],
   "source": [
    "test_x= test_x/255  # max normilization"
   ]
  },
  {
   "cell_type": "code",
   "execution_count": 16,
   "id": "aa97636e-b164-4582-afa4-f4d045a42c75",
   "metadata": {},
   "outputs": [
    {
     "data": {
      "text/plain": [
       "((80002, 64, 64, 3), (10002, 64, 64, 3), (10905, 64, 64, 3))"
      ]
     },
     "execution_count": 16,
     "metadata": {},
     "output_type": "execute_result"
    }
   ],
   "source": [
    "train_x.shape, val_x.shape, test_x.shape"
   ]
  },
  {
   "cell_type": "markdown",
   "id": "bdb16a0a",
   "metadata": {},
   "source": [
    "# Model Building"
   ]
  },
  {
   "cell_type": "code",
   "execution_count": 17,
   "id": "4ae0d564",
   "metadata": {},
   "outputs": [],
   "source": [
    "model = Sequential()\n",
    "################### CNN - 1 ###################\n",
    "## Convolution Layer\n",
    "model.add(Conv2D(filters=64,kernel_size=(3,3), activation='relu', padding='same'))\n",
    "model.add(MaxPool2D(pool_size=(2,2)))\n",
    "################### CNN - 2 ###################\n",
    "model.add(Conv2D(filters=64 ,kernel_size=(3,3), activation='relu'))\n",
    "model.add(MaxPool2D(pool_size=(2,2)))\n",
    "################### CNN - 3 ###################\n",
    "model.add(Conv2D(filters=64,kernel_size=(3,3), activation='relu', padding='same'))\n",
    "model.add(MaxPool2D(pool_size=(2,2)))\n",
    "\n",
    "#################### Flattening Layer ################### \n",
    "model.add(Flatten())\n",
    "#################### Full connection  ( Neural Netwokr) ###################\n",
    "model.add(Dense(512, activation='relu'))## 1 HIDDEN LAYER WITH 512 NEURONS\n",
    "model.add(Dropout(.2))\n",
    "model.add(Dense(512, activation='relu'))## 2 HIDDEN LAYER WITH 512 NEURONS\n",
    "model.add(Dropout(.2))\n",
    "model.add(Dense(2,activation='softmax'))## OUTPUT LAYER WITH 2 NEURONS"
   ]
  },
  {
   "cell_type": "code",
   "execution_count": 18,
   "id": "38f6a129",
   "metadata": {},
   "outputs": [
    {
     "name": "stdout",
     "output_type": "stream",
     "text": [
      "Model: \"sequential\"\n",
      "_________________________________________________________________\n",
      " Layer (type)                Output Shape              Param #   \n",
      "=================================================================\n",
      " conv2d (Conv2D)             (512, 64, 64, 64)         1792      \n",
      "                                                                 \n",
      " max_pooling2d (MaxPooling2  (512, 32, 32, 64)         0         \n",
      " D)                                                              \n",
      "                                                                 \n",
      " conv2d_1 (Conv2D)           (512, 30, 30, 64)         36928     \n",
      "                                                                 \n",
      " max_pooling2d_1 (MaxPoolin  (512, 15, 15, 64)         0         \n",
      " g2D)                                                            \n",
      "                                                                 \n",
      " conv2d_2 (Conv2D)           (512, 15, 15, 64)         36928     \n",
      "                                                                 \n",
      " max_pooling2d_2 (MaxPoolin  (512, 7, 7, 64)           0         \n",
      " g2D)                                                            \n",
      "                                                                 \n",
      " flatten (Flatten)           (512, 3136)               0         \n",
      "                                                                 \n",
      " dense (Dense)               (512, 512)                1606144   \n",
      "                                                                 \n",
      " dropout (Dropout)           (512, 512)                0         \n",
      "                                                                 \n",
      " dense_1 (Dense)             (512, 512)                262656    \n",
      "                                                                 \n",
      " dropout_1 (Dropout)         (512, 512)                0         \n",
      "                                                                 \n",
      " dense_2 (Dense)             (512, 2)                  1026      \n",
      "                                                                 \n",
      "=================================================================\n",
      "Total params: 1945474 (7.42 MB)\n",
      "Trainable params: 1945474 (7.42 MB)\n",
      "Non-trainable params: 0 (0.00 Byte)\n",
      "_________________________________________________________________\n"
     ]
    }
   ],
   "source": [
    "model.build(input_shape=(512,64,64,3)) # (Batch_Size, Image_Size,Image_Size, Channels )\n",
    "model.summary()"
   ]
  },
  {
   "cell_type": "code",
   "execution_count": 19,
   "id": "1c1bbfe4",
   "metadata": {},
   "outputs": [],
   "source": [
    "adam=tf.keras.optimizers.Adam(learning_rate=.001)  # .001 is default value of lr\n",
    "model.compile(optimizer = adam , loss = 'binary_crossentropy' , metrics  = ['accuracy']) # Compiling the CNN"
   ]
  },
  {
   "cell_type": "code",
   "execution_count": 20,
   "id": "be4dff20",
   "metadata": {},
   "outputs": [
    {
     "name": "stdout",
     "output_type": "stream",
     "text": [
      "Epoch 1/30\n",
      "157/157 [==============================] - 217s 1s/step - loss: 0.4720 - accuracy: 0.7595 - val_loss: 0.4417 - val_accuracy: 0.7954\n",
      "Epoch 2/30\n",
      "157/157 [==============================] - 211s 1s/step - loss: 0.2746 - accuracy: 0.8798 - val_loss: 0.3302 - val_accuracy: 0.8605\n",
      "Epoch 3/30\n",
      "157/157 [==============================] - 206s 1s/step - loss: 0.1956 - accuracy: 0.9183 - val_loss: 0.2686 - val_accuracy: 0.8837\n",
      "Epoch 4/30\n",
      "157/157 [==============================] - 205s 1s/step - loss: 0.1613 - accuracy: 0.9333 - val_loss: 0.2339 - val_accuracy: 0.9014\n",
      "Epoch 5/30\n",
      "157/157 [==============================] - 206s 1s/step - loss: 0.1406 - accuracy: 0.9429 - val_loss: 0.2216 - val_accuracy: 0.9042\n",
      "Epoch 6/30\n",
      "157/157 [==============================] - 205s 1s/step - loss: 0.1218 - accuracy: 0.9506 - val_loss: 0.2277 - val_accuracy: 0.9081\n",
      "Epoch 7/30\n",
      "157/157 [==============================] - 204s 1s/step - loss: 0.1021 - accuracy: 0.9586 - val_loss: 0.2373 - val_accuracy: 0.9074\n",
      "Epoch 8/30\n",
      "157/157 [==============================] - 204s 1s/step - loss: 0.0904 - accuracy: 0.9642 - val_loss: 0.2699 - val_accuracy: 0.8932\n",
      "Epoch 9/30\n",
      "157/157 [==============================] - 204s 1s/step - loss: 0.0827 - accuracy: 0.9668 - val_loss: 0.2361 - val_accuracy: 0.9108\n",
      "Epoch 10/30\n",
      "157/157 [==============================] - 205s 1s/step - loss: 0.0664 - accuracy: 0.9737 - val_loss: 0.2315 - val_accuracy: 0.9160\n",
      "Epoch 11/30\n",
      "157/157 [==============================] - 204s 1s/step - loss: 0.0532 - accuracy: 0.9790 - val_loss: 0.2491 - val_accuracy: 0.9148\n",
      "Epoch 12/30\n",
      "157/157 [==============================] - 205s 1s/step - loss: 0.0471 - accuracy: 0.9814 - val_loss: 0.2623 - val_accuracy: 0.9154\n",
      "Epoch 13/30\n",
      "157/157 [==============================] - 205s 1s/step - loss: 0.0392 - accuracy: 0.9845 - val_loss: 0.2632 - val_accuracy: 0.9225\n",
      "Epoch 14/30\n",
      "157/157 [==============================] - 206s 1s/step - loss: 0.0381 - accuracy: 0.9850 - val_loss: 0.2966 - val_accuracy: 0.9094\n",
      "Epoch 15/30\n",
      "157/157 [==============================] - 203s 1s/step - loss: 0.0306 - accuracy: 0.9881 - val_loss: 0.2952 - val_accuracy: 0.9173\n",
      "Epoch 16/30\n",
      "157/157 [==============================] - 203s 1s/step - loss: 0.0331 - accuracy: 0.9873 - val_loss: 0.2909 - val_accuracy: 0.9237\n",
      "Epoch 17/30\n",
      "157/157 [==============================] - 204s 1s/step - loss: 0.0275 - accuracy: 0.9896 - val_loss: 0.2955 - val_accuracy: 0.9204\n",
      "Epoch 18/30\n",
      "157/157 [==============================] - 204s 1s/step - loss: 0.0238 - accuracy: 0.9908 - val_loss: 0.3461 - val_accuracy: 0.9210\n",
      "Epoch 19/30\n",
      "157/157 [==============================] - 205s 1s/step - loss: 0.0244 - accuracy: 0.9905 - val_loss: 0.3304 - val_accuracy: 0.9220\n",
      "Epoch 20/30\n",
      "157/157 [==============================] - 204s 1s/step - loss: 0.0231 - accuracy: 0.9911 - val_loss: 0.3030 - val_accuracy: 0.9229\n",
      "Epoch 21/30\n",
      "157/157 [==============================] - 203s 1s/step - loss: 0.0199 - accuracy: 0.9927 - val_loss: 0.3608 - val_accuracy: 0.9169\n",
      "Epoch 22/30\n",
      "157/157 [==============================] - 203s 1s/step - loss: 0.0209 - accuracy: 0.9919 - val_loss: 0.3356 - val_accuracy: 0.9219\n",
      "Epoch 23/30\n",
      "157/157 [==============================] - 204s 1s/step - loss: 0.0173 - accuracy: 0.9933 - val_loss: 0.3534 - val_accuracy: 0.9250\n",
      "Epoch 24/30\n",
      "157/157 [==============================] - 204s 1s/step - loss: 0.0173 - accuracy: 0.9935 - val_loss: 0.3659 - val_accuracy: 0.9260\n",
      "Epoch 25/30\n",
      "157/157 [==============================] - 206s 1s/step - loss: 0.0167 - accuracy: 0.9935 - val_loss: 0.3408 - val_accuracy: 0.9262\n",
      "Epoch 26/30\n",
      "157/157 [==============================] - 205s 1s/step - loss: 0.0146 - accuracy: 0.9946 - val_loss: 0.3584 - val_accuracy: 0.9231\n",
      "Epoch 27/30\n",
      "157/157 [==============================] - 205s 1s/step - loss: 0.0128 - accuracy: 0.9952 - val_loss: 0.4259 - val_accuracy: 0.9168\n",
      "Epoch 28/30\n",
      "157/157 [==============================] - 205s 1s/step - loss: 0.0161 - accuracy: 0.9942 - val_loss: 0.3546 - val_accuracy: 0.9210\n",
      "Epoch 29/30\n",
      "157/157 [==============================] - 204s 1s/step - loss: 0.0161 - accuracy: 0.9942 - val_loss: 0.3827 - val_accuracy: 0.9173\n",
      "Epoch 30/30\n",
      "157/157 [==============================] - 204s 1s/step - loss: 0.0139 - accuracy: 0.9949 - val_loss: 0.4099 - val_accuracy: 0.9253\n"
     ]
    }
   ],
   "source": [
    "history=model.fit(train_x, train_y, epochs=30,batch_size=512, validation_data=(val_x, val_y))"
   ]
  },
  {
   "cell_type": "code",
   "execution_count": 21,
   "id": "ea81ab30-62e3-47f5-9044-78e493aff3e1",
   "metadata": {},
   "outputs": [
    {
     "name": "stdout",
     "output_type": "stream",
     "text": [
      "341/341 [==============================] - 11s 31ms/step\n"
     ]
    }
   ],
   "source": [
    "pred_prob= model.predict(test_x)"
   ]
  },
  {
   "cell_type": "code",
   "execution_count": 22,
   "id": "f787eb26-4bec-4937-b42f-eca7c178f8f1",
   "metadata": {},
   "outputs": [],
   "source": [
    "pred= pred_prob.argmax(axis=1)"
   ]
  },
  {
   "cell_type": "code",
   "execution_count": 23,
   "id": "4cd3b7e2",
   "metadata": {},
   "outputs": [],
   "source": [
    "from sklearn.metrics import confusion_matrix,  classification_report"
   ]
  },
  {
   "cell_type": "code",
   "execution_count": 24,
   "id": "a68ee88a",
   "metadata": {},
   "outputs": [
    {
     "data": {
      "text/plain": [
       "array([[4813,  600],\n",
       "       [ 635, 4857]], dtype=int64)"
      ]
     },
     "execution_count": 24,
     "metadata": {},
     "output_type": "execute_result"
    }
   ],
   "source": [
    "tab_acc= confusion_matrix(test_y, pred)\n",
    "tab_acc"
   ]
  },
  {
   "cell_type": "code",
   "execution_count": 25,
   "id": "bd693b28",
   "metadata": {},
   "outputs": [
    {
     "data": {
      "text/plain": [
       "88.67491976157726"
      ]
     },
     "execution_count": 25,
     "metadata": {},
     "output_type": "execute_result"
    }
   ],
   "source": [
    "tab_acc.diagonal().sum()*100/tab_acc.sum() # Calculating the Accuracy of the model"
   ]
  },
  {
   "cell_type": "code",
   "execution_count": 27,
   "id": "9613b004-8b2d-42f3-829f-464970cd2a48",
   "metadata": {},
   "outputs": [
    {
     "name": "stdout",
     "output_type": "stream",
     "text": [
      "Classification Report: \n",
      "               precision    recall  f1-score   support\n",
      "\n",
      "           0       0.88      0.89      0.89      5413\n",
      "           1       0.89      0.88      0.89      5492\n",
      "\n",
      "    accuracy                           0.89     10905\n",
      "   macro avg       0.89      0.89      0.89     10905\n",
      "weighted avg       0.89      0.89      0.89     10905\n",
      "\n"
     ]
    }
   ],
   "source": [
    "print(\"Classification Report: \\n\",classification_report(test_y, pred))"
   ]
  },
  {
   "cell_type": "code",
   "execution_count": 28,
   "id": "da8b0fab",
   "metadata": {},
   "outputs": [],
   "source": [
    "model.save(\"DeepFakeMajor_88.6%.h5\")"
   ]
  },
  {
   "cell_type": "code",
   "execution_count": 29,
   "id": "aa35def7",
   "metadata": {},
   "outputs": [
    {
     "data": {
      "text/plain": [
       "dict_keys(['loss', 'accuracy', 'val_loss', 'val_accuracy'])"
      ]
     },
     "execution_count": 29,
     "metadata": {},
     "output_type": "execute_result"
    }
   ],
   "source": [
    "history.history.keys()"
   ]
  },
  {
   "cell_type": "markdown",
   "id": "799df9ff",
   "metadata": {},
   "source": [
    "## Loss, Accuracy, Val loss etc are a python list containing values of loss, accuracy etc at the end of each epoch"
   ]
  },
  {
   "cell_type": "code",
   "execution_count": 30,
   "id": "86fc94d7",
   "metadata": {},
   "outputs": [
    {
     "data": {
      "text/plain": [
       "list"
      ]
     },
     "execution_count": 30,
     "metadata": {},
     "output_type": "execute_result"
    }
   ],
   "source": [
    "type(history.history['loss'])"
   ]
  },
  {
   "cell_type": "code",
   "execution_count": 31,
   "id": "8c1be561",
   "metadata": {},
   "outputs": [
    {
     "data": {
      "text/plain": [
       "30"
      ]
     },
     "execution_count": 31,
     "metadata": {},
     "output_type": "execute_result"
    }
   ],
   "source": [
    "len(history.history['loss'])"
   ]
  },
  {
   "cell_type": "code",
   "execution_count": 32,
   "id": "28dc6b2f",
   "metadata": {},
   "outputs": [
    {
     "data": {
      "text/plain": [
       "[0.4719986021518707,\n",
       " 0.2746173143386841,\n",
       " 0.19557583332061768,\n",
       " 0.1612505167722702,\n",
       " 0.14056918025016785]"
      ]
     },
     "execution_count": 32,
     "metadata": {},
     "output_type": "execute_result"
    }
   ],
   "source": [
    "history.history['loss'][:5] # show loss for first 5 epochs"
   ]
  },
  {
   "cell_type": "code",
   "execution_count": 33,
   "id": "3cac614d",
   "metadata": {},
   "outputs": [],
   "source": [
    "acc = history.history['accuracy']\n",
    "val_acc = history.history['val_accuracy']\n",
    "\n",
    "loss = history.history['loss']\n",
    "val_loss = history.history['val_loss']"
   ]
  },
  {
   "cell_type": "code",
   "execution_count": 35,
   "id": "3eef60ae",
   "metadata": {},
   "outputs": [
    {
     "data": {
      "image/png": "[encoded data removed]",
      "text/plain": [
       "<Figure size 800x800 with 2 Axes>"
      ]
     },
     "metadata": {},
     "output_type": "display_data"
    }
   ],
   "source": [
    "EPOCHS=30\n",
    "plt.figure(figsize=(8, 8))\n",
    "plt.subplot(1, 2, 1)\n",
    "plt.plot(range(EPOCHS), acc, label='Training Accuracy')\n",
    "plt.plot(range(EPOCHS), val_acc, label='Validation Accuracy')\n",
    "plt.legend(loc='lower right')\n",
    "plt.title('Training and Validation Accuracy')\n",
    "\n",
    "plt.subplot(1, 2, 2)\n",
    "plt.plot(range(EPOCHS), loss, label='Training Loss')\n",
    "plt.plot(range(EPOCHS), val_loss, label='Validation Loss')\n",
    "plt.legend(loc='upper right')\n",
    "plt.title('Training and Validation Loss')\n",
    "plt.show()"
   ]
  },
  {
   "cell_type": "markdown",
   "id": "2ccb5552",
   "metadata": {},
   "source": [
    "## Loading Model 1"
   ]
  },
  {
   "cell_type": "code",
   "execution_count": 36,
   "id": "d75d437b",
   "metadata": {},
   "outputs": [],
   "source": [
    "from keras.models import load_model\n",
    "model = load_model(\"DeepFakeMajor_88%.h5\")"
   ]
  },
  {
   "cell_type": "code",
   "execution_count": 37,
   "id": "51e8438b",
   "metadata": {},
   "outputs": [
    {
     "name": "stdout",
     "output_type": "stream",
     "text": [
      "341/341 [==============================] - 16s 47ms/step\n"
     ]
    }
   ],
   "source": [
    "pred_prob= model.predict(test_x)"
   ]
  },
  {
   "cell_type": "code",
   "execution_count": 38,
   "id": "8e7b2639",
   "metadata": {},
   "outputs": [],
   "source": [
    "pred= pred_prob.argmax(axis=1)"
   ]
  },
  {
   "cell_type": "code",
   "execution_count": 39,
   "id": "304316f5",
   "metadata": {},
   "outputs": [],
   "source": [
    "from sklearn.metrics import confusion_matrix,  classification_report"
   ]
  },
  {
   "cell_type": "code",
   "execution_count": 40,
   "id": "82893bdf",
   "metadata": {},
   "outputs": [
    {
     "data": {
      "text/plain": [
       "array([[4508,  905],\n",
       "       [ 404, 5088]], dtype=int64)"
      ]
     },
     "execution_count": 40,
     "metadata": {},
     "output_type": "execute_result"
    }
   ],
   "source": [
    "tab_acc= confusion_matrix(test_y, pred)\n",
    "tab_acc"
   ]
  },
  {
   "cell_type": "code",
   "execution_count": 41,
   "id": "ee2c3d2a",
   "metadata": {},
   "outputs": [
    {
     "data": {
      "text/plain": [
       "87.99633195781752"
      ]
     },
     "execution_count": 41,
     "metadata": {},
     "output_type": "execute_result"
    }
   ],
   "source": [
    "tab_acc.diagonal().sum()*100/tab_acc.sum() # Calculating the Accuracy of the model"
   ]
  },
  {
   "cell_type": "code",
   "execution_count": 42,
   "id": "97822732",
   "metadata": {},
   "outputs": [
    {
     "name": "stdout",
     "output_type": "stream",
     "text": [
      "Classification Report: \n",
      "               precision    recall  f1-score   support\n",
      "\n",
      "           0       0.92      0.83      0.87      5413\n",
      "           1       0.85      0.93      0.89      5492\n",
      "\n",
      "    accuracy                           0.88     10905\n",
      "   macro avg       0.88      0.88      0.88     10905\n",
      "weighted avg       0.88      0.88      0.88     10905\n",
      "\n"
     ]
    }
   ],
   "source": [
    "print(\"Classification Report: \\n\",classification_report(test_y, pred))"
   ]
  },
  {
   "cell_type": "markdown",
   "id": "d2c8624d",
   "metadata": {},
   "source": [
    "## Loading Model 2"
   ]
  },
  {
   "cell_type": "code",
   "execution_count": 43,
   "id": "64c49e39",
   "metadata": {},
   "outputs": [],
   "source": [
    "from keras.models import load_model\n",
    "model = load_model(\"DeepFakeMajor_88.4%.h5\")"
   ]
  },
  {
   "cell_type": "code",
   "execution_count": 44,
   "id": "5edea7b4",
   "metadata": {},
   "outputs": [
    {
     "name": "stdout",
     "output_type": "stream",
     "text": [
      "341/341 [==============================] - 10s 30ms/step\n"
     ]
    }
   ],
   "source": [
    "pred_prob= model.predict(test_x)"
   ]
  },
  {
   "cell_type": "code",
   "execution_count": 45,
   "id": "76db38ce",
   "metadata": {},
   "outputs": [],
   "source": [
    "pred= pred_prob.argmax(axis=1)"
   ]
  },
  {
   "cell_type": "code",
   "execution_count": 46,
   "id": "e1c1cc03",
   "metadata": {},
   "outputs": [],
   "source": [
    "from sklearn.metrics import confusion_matrix,  classification_report"
   ]
  },
  {
   "cell_type": "code",
   "execution_count": 47,
   "id": "c7c561a1",
   "metadata": {},
   "outputs": [
    {
     "data": {
      "text/plain": [
       "array([[4908,  505],\n",
       "       [ 757, 4735]], dtype=int64)"
      ]
     },
     "execution_count": 47,
     "metadata": {},
     "output_type": "execute_result"
    }
   ],
   "source": [
    "tab_acc= confusion_matrix(test_y, pred)\n",
    "tab_acc"
   ]
  },
  {
   "cell_type": "code",
   "execution_count": 48,
   "id": "fcb67a54",
   "metadata": {},
   "outputs": [
    {
     "data": {
      "text/plain": [
       "88.42732691425951"
      ]
     },
     "execution_count": 48,
     "metadata": {},
     "output_type": "execute_result"
    }
   ],
   "source": [
    "tab_acc.diagonal().sum()*100/tab_acc.sum() # Calculating the Accuracy of the model"
   ]
  },
  {
   "cell_type": "code",
   "execution_count": 49,
   "id": "4766840c",
   "metadata": {},
   "outputs": [
    {
     "name": "stdout",
     "output_type": "stream",
     "text": [
      "Classification Report: \n",
      "               precision    recall  f1-score   support\n",
      "\n",
      "           0       0.87      0.91      0.89      5413\n",
      "           1       0.90      0.86      0.88      5492\n",
      "\n",
      "    accuracy                           0.88     10905\n",
      "   macro avg       0.88      0.88      0.88     10905\n",
      "weighted avg       0.89      0.88      0.88     10905\n",
      "\n"
     ]
    }
   ],
   "source": [
    "print(\"Classification Report: \\n\",classification_report(test_y, pred))"
   ]
  },
  {
   "cell_type": "markdown",
   "id": "07864e66",
   "metadata": {},
   "source": [
    "## Loading Model 3"
   ]
  },
  {
   "cell_type": "code",
   "execution_count": 50,
   "id": "d49da0e0",
   "metadata": {},
   "outputs": [],
   "source": [
    "from keras.models import load_model\n",
    "model = load_model(\"DeepFakeMajor_85%.h5\")"
   ]
  },
  {
   "cell_type": "code",
   "execution_count": 51,
   "id": "451c7093",
   "metadata": {},
   "outputs": [
    {
     "name": "stdout",
     "output_type": "stream",
     "text": [
      "341/341 [==============================] - 14s 41ms/step\n"
     ]
    }
   ],
   "source": [
    "pred_prob= model.predict(test_x)"
   ]
  },
  {
   "cell_type": "code",
   "execution_count": 52,
   "id": "a600885d",
   "metadata": {},
   "outputs": [],
   "source": [
    "pred= pred_prob.argmax(axis=1)"
   ]
  },
  {
   "cell_type": "code",
   "execution_count": 53,
   "id": "f43c5673",
   "metadata": {},
   "outputs": [],
   "source": [
    "from sklearn.metrics import confusion_matrix,  classification_report"
   ]
  },
  {
   "cell_type": "code",
   "execution_count": 54,
   "id": "eedde975",
   "metadata": {},
   "outputs": [
    {
     "data": {
      "text/plain": [
       "array([[4280, 1133],\n",
       "       [ 458, 5034]], dtype=int64)"
      ]
     },
     "execution_count": 54,
     "metadata": {},
     "output_type": "execute_result"
    }
   ],
   "source": [
    "tab_acc= confusion_matrix(test_y, pred)\n",
    "tab_acc"
   ]
  },
  {
   "cell_type": "code",
   "execution_count": 55,
   "id": "040bb170",
   "metadata": {},
   "outputs": [
    {
     "data": {
      "text/plain": [
       "85.41036221916552"
      ]
     },
     "execution_count": 55,
     "metadata": {},
     "output_type": "execute_result"
    }
   ],
   "source": [
    "tab_acc.diagonal().sum()*100/tab_acc.sum() # Calculating the Accuracy of the model"
   ]
  },
  {
   "cell_type": "code",
   "execution_count": 56,
   "id": "391917f3",
   "metadata": {},
   "outputs": [
    {
     "name": "stdout",
     "output_type": "stream",
     "text": [
      "Classification Report: \n",
      "               precision    recall  f1-score   support\n",
      "\n",
      "           0       0.90      0.79      0.84      5413\n",
      "           1       0.82      0.92      0.86      5492\n",
      "\n",
      "    accuracy                           0.85     10905\n",
      "   macro avg       0.86      0.85      0.85     10905\n",
      "weighted avg       0.86      0.85      0.85     10905\n",
      "\n"
     ]
    }
   ],
   "source": [
    "print(\"Classification Report: \\n\",classification_report(test_y, pred))"
   ]
  },
  {
   "cell_type": "markdown",
   "id": "1b2e2241",
   "metadata": {},
   "source": [
    "## Loading Model 4"
   ]
  },
  {
   "cell_type": "code",
   "execution_count": 12,
   "id": "8d0bb8a5",
   "metadata": {},
   "outputs": [],
   "source": [
    "from keras.models import load_model\n",
    "model = load_model(\"DeepFakeMajor_88.1%.h5\")"
   ]
  },
  {
   "cell_type": "code",
   "execution_count": 13,
   "id": "7eb3b876",
   "metadata": {},
   "outputs": [
    {
     "name": "stdout",
     "output_type": "stream",
     "text": [
      "341/341 [==============================] - 16s 46ms/step\n"
     ]
    }
   ],
   "source": [
    "pred_prob= model.predict(test_x)"
   ]
  },
  {
   "cell_type": "code",
   "execution_count": 14,
   "id": "c82afaa4",
   "metadata": {},
   "outputs": [],
   "source": [
    "pred= pred_prob.argmax(axis=1)"
   ]
  },
  {
   "cell_type": "code",
   "execution_count": 15,
   "id": "ca2ae188",
   "metadata": {},
   "outputs": [],
   "source": [
    "from sklearn.metrics import confusion_matrix,  classification_report"
   ]
  },
  {
   "cell_type": "code",
   "execution_count": 16,
   "id": "39fcd456",
   "metadata": {},
   "outputs": [
    {
     "data": {
      "text/plain": [
       "array([[4917,  496],\n",
       "       [ 795, 4697]], dtype=int64)"
      ]
     },
     "execution_count": 16,
     "metadata": {},
     "output_type": "execute_result"
    }
   ],
   "source": [
    "tab_acc= confusion_matrix(test_y, pred)\n",
    "tab_acc"
   ]
  },
  {
   "cell_type": "code",
   "execution_count": 17,
   "id": "e7d43e4b",
   "metadata": {},
   "outputs": [
    {
     "data": {
      "text/plain": [
       "88.16139385602935"
      ]
     },
     "execution_count": 17,
     "metadata": {},
     "output_type": "execute_result"
    }
   ],
   "source": [
    "tab_acc.diagonal().sum()*100/tab_acc.sum() # Calculating the Accuracy of the model"
   ]
  },
  {
   "cell_type": "code",
   "execution_count": 18,
   "id": "4058bd9e",
   "metadata": {},
   "outputs": [
    {
     "name": "stdout",
     "output_type": "stream",
     "text": [
      "Classification Report: \n",
      "               precision    recall  f1-score   support\n",
      "\n",
      "           0       0.86      0.91      0.88      5413\n",
      "           1       0.90      0.86      0.88      5492\n",
      "\n",
      "    accuracy                           0.88     10905\n",
      "   macro avg       0.88      0.88      0.88     10905\n",
      "weighted avg       0.88      0.88      0.88     10905\n",
      "\n"
     ]
    }
   ],
   "source": [
    "print(\"Classification Report: \\n\",classification_report(test_y, pred))"
   ]
  },
  {
   "cell_type": "code",
   "execution_count": null,
   "id": "38ec1b68",
   "metadata": {},
   "outputs": [],
   "source": []
  },
  {
   "cell_type": "code",
   "execution_count": null,
   "id": "341877f0",
   "metadata": {},
   "outputs": [],
   "source": []
  },
  {
   "cell_type": "code",
   "execution_count": null,
   "id": "e9a29dca-2d95-40bf-9781-5ec2b48ae1ab",
   "metadata": {},
   "outputs": [],
   "source": []
  },
  {
   "cell_type": "code",
   "execution_count": null,
   "id": "dd3bb801-5f5f-4a56-910b-826351d7b354",
   "metadata": {},
   "outputs": [],
   "source": []
  }
 ],
 "metadata": {
  "kernelspec": {
   "display_name": "Python 3 (ipykernel)",
   "language": "python",
   "name": "python3"
  },
  "language_info": {
   "codemirror_mode": {
    "name": "ipython",
    "version": 3
   },
   "file_extension": ".py",
   "mimetype": "text/x-python",
   "name": "python",
   "nbconvert_exporter": "python",
   "pygments_lexer": "ipython3",
   "version": "3.11.3"
  }
 },
 "nbformat": 4,
 "nbformat_minor": 5
}
